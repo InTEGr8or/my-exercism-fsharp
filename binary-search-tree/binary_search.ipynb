{
 "cells": [
  {
   "cell_type": "code",
   "execution_count": null,
   "source": [
    "open System\r\n",
    "type Node<'a> =\r\n",
    "    | None\r\n",
    "    | Node of Data:'a * Left:Node<'a> * Right:Node<'a>\r\n",
    "\r\n",
    "let data = function None -> failwith \"Empty Tree\" | Node (d, _, _) -> d\r\n",
    "// let left = function Empty -> None | Node (_, l, _) -> Some l\r\n",
    "let left node =\r\n",
    "    match node with\r\n",
    "    | None -> None\r\n",
    "    | Node (_, l, _) -> l\r\n",
    "\r\n",
    "let right node = \r\n",
    "    match node with\r\n",
    "    | None -> None\r\n",
    "    | Node (_, _, r) -> r\r\n",
    "\r\n"
   ],
   "outputs": [],
   "metadata": {
    "dotnet_interactive": {
     "language": "fsharp"
    }
   }
  },
  {
   "cell_type": "code",
   "execution_count": null,
   "source": [
    "let first root = \r\n",
    "    let rec goLeft node =\r\n",
    "        match node with\r\n",
    "        | None -> None\r\n",
    "        | Node (d, ln, _) ->\r\n",
    "            match ln with\r\n",
    "            | None -> d\r\n",
    "            | Node _ -> goLeft ln\r\n",
    "\r\n",
    "    goLeft root\r\n",
    "\r\n",
    "let last root = \r\n",
    "    let rec goRight node =\r\n",
    "        match node with\r\n",
    "        | None -> None\r\n",
    "        | Node (d, _, rn) ->\r\n",
    "            match rn with\r\n",
    "            | None -> d\r\n",
    "            | Node _ -> goRight rn\r\n",
    "\r\n",
    "    goRight root\r\n",
    "\r\n",
    "let rec insert data root =\r\n",
    "    match root with\r\n",
    "    | None -> Node(data, None, None)\r\n",
    "    | Node (d, l, r) ->\r\n",
    "        match data <= d with\r\n",
    "        | true -> Node (d, l |> insert data, r)\r\n",
    "        | false -> Node (d, l, r |> insert data)\r\n",
    "\r\n",
    "let toOrderedSeq root =\r\n",
    "    let rec dfs node =\r\n",
    "        match node with\r\n",
    "        | None -> Seq.empty\r\n",
    "        | Node (d, ln, rn) -> seq {\r\n",
    "                yield! dfs ln\r\n",
    "                yield d\r\n",
    "                yield! dfs rn\r\n",
    "            }\r\n",
    "\r\n",
    "    dfs root\r\n",
    "\r\n",
    "let create data = \r\n",
    "    data \r\n",
    "    |> List.fold (fun n x -> n |> insert x) None "
   ],
   "outputs": [],
   "metadata": {
    "dotnet_interactive": {
     "language": "fsharp"
    }
   }
  },
  {
   "cell_type": "code",
   "execution_count": null,
   "source": [
    "let testTree = create [1;3;5;4;7;8;56;34;23;43;12]\r\n",
    "let validInt = Some 5\r\n",
    "\r\n",
    "\r\n",
    "let treeData = create [4]\r\n",
    "let t1 = create [4;5;7]\r\n",
    "testTree |> data |> printfn \"TreeData: %A\"\r\n",
    "testTree |> left |> printfn \"TreeData: %A\""
   ],
   "outputs": [
    {
     "output_type": "error",
     "ename": "Error",
     "evalue": "(1,25): error CS1003: Syntax error, ']' expected\r\n(1,50): error CS1002: ; expected\r\n(1,50): error CS7017: Member definition, statement, or end-of-file expected\r\n(2,21): error CS1002: ; expected\r\n(2,22): error CS1002: ; expected\r\n(5,26): error CS1002: ; expected\r\n(6,19): error CS1003: Syntax error, ']' expected\r\n(6,23): error CS1002: ; expected\r\n(6,23): error CS7017: Member definition, statement, or end-of-file expected\r\n(7,11): error CS1525: Invalid expression term '>'\r\n(7,19): error CS1525: Invalid expression term '>'\r\n(7,29): error CS1002: ; expected\r\n(7,43): error CS1002: ; expected\r\n(8,11): error CS1525: Invalid expression term '>'\r\n(8,19): error CS1525: Invalid expression term '>'\r\n(8,29): error CS1002: ; expected",
     "traceback": [
      "(1,25): error CS1003: Syntax error, ']' expected\r\n",
      "(1,50): error CS1002: ; expected\r\n",
      "(1,50): error CS7017: Member definition, statement, or end-of-file expected\r\n",
      "(2,21): error CS1002: ; expected\r\n",
      "(2,22): error CS1002: ; expected\r\n",
      "(5,26): error CS1002: ; expected\r\n",
      "(6,19): error CS1003: Syntax error, ']' expected\r\n",
      "(6,23): error CS1002: ; expected\r\n",
      "(6,23): error CS7017: Member definition, statement, or end-of-file expected\r\n",
      "(7,11): error CS1525: Invalid expression term '>'\r\n",
      "(7,19): error CS1525: Invalid expression term '>'\r\n",
      "(7,29): error CS1002: ; expected\r\n",
      "(7,43): error CS1002: ; expected\r\n",
      "(8,11): error CS1525: Invalid expression term '>'\r\n",
      "(8,19): error CS1525: Invalid expression term '>'\r\n",
      "(8,29): error CS1002: ; expected"
     ]
    }
   ],
   "metadata": {
    "dotnet_interactive": {
     "language": "fsharp"
    }
   }
  }
 ],
 "metadata": {
  "orig_nbformat": 4,
  "language_info": {
   "file_extension": ".cs",
   "mimetype": "text/x-csharp",
   "name": "C#",
   "pygments_lexer": "csharp",
   "version": "9.0"
  },
  "kernelspec": {
   "name": ".net-csharp",
   "display_name": ".NET (C#)",
   "language": "C#"
  },
  "interpreter": {
   "hash": "63fd5069d213b44bf678585dea6b12cceca9941eaf7f819626cde1f2670de90d"
  }
 },
 "nbformat": 4,
 "nbformat_minor": 2
}